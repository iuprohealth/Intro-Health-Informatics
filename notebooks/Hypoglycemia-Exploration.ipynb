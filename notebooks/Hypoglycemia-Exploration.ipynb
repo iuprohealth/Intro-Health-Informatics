{
 "cells": [
  {
   "cell_type": "markdown",
   "id": "b02b8b89",
   "metadata": {},
   "source": [
    "# Introduction to Health Informatics: Intro Data and Systems\n",
    "\n",
    "So far the course has focused on personal health as a \"*design problem*,\" and the papers have used semi-structured interviews to understand participant needs either in or outside of a clinical setting.\n",
    "\n",
    "Now we're moving into **Part 2**, where we'll mainly view health in terms of \"*systems*\" of decision-making.\n",
    "\n",
    "Today's task is to get practice with the sort of questions you might ask when working with health data. Specifically, we're going to work with (a [slightly modified version](https://github.com/hayesall/diabetes-time-series) of) the [UCI Diabetes dataset](https://archive.ics.uci.edu/ml/datasets/diabetes), which was donated as part of the 1994 AI in Medicine workshop by Michael Kahn (MD, PhD). The dataset consists of 70 files documenting users experiencing hypoglycemia symptoms as part of their diabetes.\n",
    "\n",
    "## What we're given\n",
    "\n",
    "From the dataset page, we learn:\n",
    "\n",
    "> Diabetes patient records were obtained from two sources: an **automatic electronic recording device** and **paper records**. The automatic device had an internal clock to timestamp events, whereas the paper records only provided \"logical time\" slots (breakfast, lunch, dinner, bedtime). For paper records, fixed times were assigned to breakfast (08:00), lunch (12:00), dinner (18:00), and bedtime (22:00). Thus paper records have fictitious uniform recording times whereas electronic records have more realistic time stamps.\n",
    "\n",
    "And that the files are formatted as:\n",
    "\n",
    "```\n",
    "(1) Date in MM-DD-YYYY format\n",
    "(2) Time in XX:YY format\n",
    "(3) Code\n",
    "(4) Value\n",
    "```\n",
    "\n",
    "... and finally, the `Code` field is deciphered as follows:\n",
    "\n",
    "```\n",
    "33 = Regular insulin dose\n",
    "34 = NPH insulin dose\n",
    "35 = UltraLente insulin dose\n",
    "48 = Unspecified blood glucose measurement\n",
    "57 = Unspecified blood glucose measurement\n",
    "58 = Pre-breakfast blood glucose measurement\n",
    "59 = Post-breakfast blood glucose measurement\n",
    "60 = Pre-lunch blood glucose measurement\n",
    "61 = Post-lunch blood glucose measurement\n",
    "62 = Pre-supper blood glucose measurement\n",
    "63 = Post-supper blood glucose measurement\n",
    "64 = Pre-snack blood glucose measurement\n",
    "65 = Hypoglycemic symptoms\n",
    "66 = Typical meal ingestion\n",
    "67 = More-than-usual meal ingestion\n",
    "68 = Less-than-usual meal ingestion\n",
    "69 = Typical exercise activity\n",
    "70 = More-than-usual exercise activity\n",
    "71 = Less-than-usual exercise activity\n",
    "72 = Unspecified special event\n",
    "```\n",
    "\n",
    "That's it. Let's dive in."
   ]
  },
  {
   "cell_type": "code",
   "execution_count": 1,
   "id": "a3d2a4dd",
   "metadata": {},
   "outputs": [],
   "source": [
    "import numpy as np\n",
    "import pandas as pd\n",
    "import matplotlib.pyplot as plt\n",
    "import matplotlib.dates as mdates\n",
    "import seaborn as sns\n",
    "from collections import Counter\n",
    "from random import randint"
   ]
  },
  {
   "cell_type": "markdown",
   "id": "91d04dc2",
   "metadata": {},
   "source": [
    "---\n",
    "\n",
    "## Preliminary Exploration and Some Data Cleaning\n",
    "\n",
    "Pick a random participant in (`01`, `02`, `03`, ..., `68`, `69`, `70`):"
   ]
  },
  {
   "cell_type": "code",
   "execution_count": 2,
   "id": "bbedd79a",
   "metadata": {},
   "outputs": [
    {
     "data": {
      "text/plain": [
       "35"
      ]
     },
     "execution_count": 2,
     "metadata": {},
     "output_type": "execute_result"
    }
   ],
   "source": [
    "USER = randint(1, 70)\n",
    "\n",
    "# This will choose a random user for you. If you want to focus on a specific user, manually\n",
    "# replace it with an integer between 1-70.\n",
    "\n",
    "USER"
   ]
  },
  {
   "cell_type": "markdown",
   "id": "3858b0d2",
   "metadata": {},
   "source": [
    "Load the data for this user and view the first ten lines:"
   ]
  },
  {
   "cell_type": "code",
   "execution_count": 3,
   "id": "7c97434c",
   "metadata": {
    "scrolled": true
   },
   "outputs": [
    {
     "data": {
      "text/html": [
       "<div>\n",
       "<style scoped>\n",
       "    .dataframe tbody tr th:only-of-type {\n",
       "        vertical-align: middle;\n",
       "    }\n",
       "\n",
       "    .dataframe tbody tr th {\n",
       "        vertical-align: top;\n",
       "    }\n",
       "\n",
       "    .dataframe thead th {\n",
       "        text-align: right;\n",
       "    }\n",
       "</style>\n",
       "<table border=\"1\" class=\"dataframe\">\n",
       "  <thead>\n",
       "    <tr style=\"text-align: right;\">\n",
       "      <th></th>\n",
       "      <th>date</th>\n",
       "      <th>time</th>\n",
       "      <th>code</th>\n",
       "      <th>value</th>\n",
       "    </tr>\n",
       "  </thead>\n",
       "  <tbody>\n",
       "    <tr>\n",
       "      <th>0</th>\n",
       "      <td>09-11-1990</td>\n",
       "      <td>18:00</td>\n",
       "      <td>62</td>\n",
       "      <td>62</td>\n",
       "    </tr>\n",
       "    <tr>\n",
       "      <th>1</th>\n",
       "      <td>09-11-1990</td>\n",
       "      <td>18:01</td>\n",
       "      <td>65</td>\n",
       "      <td>0</td>\n",
       "    </tr>\n",
       "    <tr>\n",
       "      <th>2</th>\n",
       "      <td>09-11-1990</td>\n",
       "      <td>18:09</td>\n",
       "      <td>33</td>\n",
       "      <td>6</td>\n",
       "    </tr>\n",
       "    <tr>\n",
       "      <th>3</th>\n",
       "      <td>09-11-1990</td>\n",
       "      <td>22:47</td>\n",
       "      <td>64</td>\n",
       "      <td>257</td>\n",
       "    </tr>\n",
       "    <tr>\n",
       "      <th>4</th>\n",
       "      <td>09-11-1990</td>\n",
       "      <td>22:57</td>\n",
       "      <td>33</td>\n",
       "      <td>3</td>\n",
       "    </tr>\n",
       "    <tr>\n",
       "      <th>5</th>\n",
       "      <td>09-11-1990</td>\n",
       "      <td>22:57</td>\n",
       "      <td>34</td>\n",
       "      <td>7</td>\n",
       "    </tr>\n",
       "    <tr>\n",
       "      <th>6</th>\n",
       "      <td>09-12-1990</td>\n",
       "      <td>07:24</td>\n",
       "      <td>58</td>\n",
       "      <td>195</td>\n",
       "    </tr>\n",
       "    <tr>\n",
       "      <th>7</th>\n",
       "      <td>09-12-1990</td>\n",
       "      <td>07:26</td>\n",
       "      <td>33</td>\n",
       "      <td>7</td>\n",
       "    </tr>\n",
       "    <tr>\n",
       "      <th>8</th>\n",
       "      <td>09-12-1990</td>\n",
       "      <td>07:26</td>\n",
       "      <td>34</td>\n",
       "      <td>2</td>\n",
       "    </tr>\n",
       "    <tr>\n",
       "      <th>9</th>\n",
       "      <td>09-12-1990</td>\n",
       "      <td>11:16</td>\n",
       "      <td>60</td>\n",
       "      <td>84</td>\n",
       "    </tr>\n",
       "  </tbody>\n",
       "</table>\n",
       "</div>"
      ],
      "text/plain": [
       "         date   time  code  value\n",
       "0  09-11-1990  18:00    62     62\n",
       "1  09-11-1990  18:01    65      0\n",
       "2  09-11-1990  18:09    33      6\n",
       "3  09-11-1990  22:47    64    257\n",
       "4  09-11-1990  22:57    33      3\n",
       "5  09-11-1990  22:57    34      7\n",
       "6  09-12-1990  07:24    58    195\n",
       "7  09-12-1990  07:26    33      7\n",
       "8  09-12-1990  07:26    34      2\n",
       "9  09-12-1990  11:16    60     84"
      ]
     },
     "execution_count": 3,
     "metadata": {},
     "output_type": "execute_result"
    }
   ],
   "source": [
    "df = pd.read_csv(\n",
    "    f\"https://raw.githubusercontent.com/hayesall/diabetes-time-series/main/Diabetes-Data/data-{USER:02}\",\n",
    "    sep=\"\\t\",\n",
    "    header=None,\n",
    "    names=[\"date\", \"time\", \"code\", \"value\"],\n",
    ")\n",
    "\n",
    "df.head(10)"
   ]
  },
  {
   "cell_type": "markdown",
   "id": "a414d55e",
   "metadata": {},
   "source": [
    "One place to start might be: \"*How often did each kind of measurement get recorded?*\"\n",
    "\n",
    "We can answer this by counting how often each `code` was recorded in the `code` column:"
   ]
  },
  {
   "cell_type": "code",
   "execution_count": 4,
   "id": "75c1202d",
   "metadata": {
    "scrolled": true
   },
   "outputs": [
    {
     "data": {
      "text/plain": [
       "Counter({62: 30,\n",
       "         65: 21,\n",
       "         33: 101,\n",
       "         64: 28,\n",
       "         34: 38,\n",
       "         58: 29,\n",
       "         60: 28,\n",
       "         71: 4,\n",
       "         67: 12,\n",
       "         57: 4,\n",
       "         56: 3,\n",
       "         70: 1,\n",
       "         68: 1})"
      ]
     },
     "execution_count": 4,
     "metadata": {},
     "output_type": "execute_result"
    }
   ],
   "source": [
    "Counter(df.code)"
   ]
  },
  {
   "cell_type": "markdown",
   "id": "cc3d904f",
   "metadata": {},
   "source": [
    "Depending on the user you got, you *may* see the number `56` in here.\n",
    "\n",
    "The category codes we were given were provided in order by numberes. Inserting `56` gives us a code that falls between `48` and `57`.\n",
    "\n",
    "| code | meaning |\n",
    "| :--- | :------ |\n",
    "| 48   | Unspecified blood glucose measurement |\n",
    "| 56  | ? |\n",
    "| 57 | Unspecified blood glucose measurement |\n",
    "\n",
    "So we appear to have two codes mean \"*Unspecified blood glucose measurement*,\" and an unknown code that falls between the two of them.\n",
    "\n",
    "It's going to be inconvenient if we have to keep referring back to those codes each time we want to interpret what we're seeing. Let's make life easier by creating a map from the numeric code into the text representation we're told about. Also notice that we've inserted the mysterious `56` as something that was \"*Not Mentioned in Documentation*.\""
   ]
  },
  {
   "cell_type": "code",
   "execution_count": 5,
   "id": "5ebef2e0",
   "metadata": {
    "scrolled": false
   },
   "outputs": [
    {
     "data": {
      "text/plain": [
       "{33: 'Regular insulin dose',\n",
       " 34: 'NPH insulin dose',\n",
       " 35: 'UltraLente insulin dose',\n",
       " 48: 'Unspecified blood glucose measurement',\n",
       " 56: 'NOT MENTIONED IN DOCUMENTATION',\n",
       " 57: 'Unspecified blood glucose measurement',\n",
       " 58: 'Pre-breakfast blood glucose measurement',\n",
       " 59: 'Post-breakfast blood glucose measurement',\n",
       " 60: 'Pre-lunch blood glucose measurement',\n",
       " 61: 'Post-lunch blood glucose measurement',\n",
       " 62: 'Pre-supper blood glucose measurement',\n",
       " 63: 'Post-supper blood glucose measurement',\n",
       " 64: 'Pre-snack blood glucose measurement',\n",
       " 65: 'Hypoglycemic symptoms',\n",
       " 66: 'Typical meal ingestion',\n",
       " 67: 'More-than-usual meal ingestion',\n",
       " 68: 'Less-than-usual meal ingestion',\n",
       " 69: 'Typical exercise activity',\n",
       " 70: 'More-than-usual exercise activity',\n",
       " 71: 'Less-than-usual exercise activity',\n",
       " 72: 'Unspecified special event'}"
      ]
     },
     "execution_count": 5,
     "metadata": {},
     "output_type": "execute_result"
    }
   ],
   "source": [
    "codes = \"\"\"33 = Regular insulin dose\n",
    "34 = NPH insulin dose\n",
    "35 = UltraLente insulin dose\n",
    "48 = Unspecified blood glucose measurement\n",
    "56 = NOT MENTIONED IN DOCUMENTATION\n",
    "57 = Unspecified blood glucose measurement\n",
    "58 = Pre-breakfast blood glucose measurement\n",
    "59 = Post-breakfast blood glucose measurement\n",
    "60 = Pre-lunch blood glucose measurement\n",
    "61 = Post-lunch blood glucose measurement\n",
    "62 = Pre-supper blood glucose measurement\n",
    "63 = Post-supper blood glucose measurement\n",
    "64 = Pre-snack blood glucose measurement\n",
    "65 = Hypoglycemic symptoms\n",
    "66 = Typical meal ingestion\n",
    "67 = More-than-usual meal ingestion\n",
    "68 = Less-than-usual meal ingestion\n",
    "69 = Typical exercise activity\n",
    "70 = More-than-usual exercise activity\n",
    "71 = Less-than-usual exercise activity\n",
    "72 = Unspecified special event\"\"\".splitlines()\n",
    "\n",
    "code_meanings = dict((int(c), d) for (c, d) in (entry.split(\" = \") for entry in codes))\n",
    "\n",
    "code_meanings"
   ]
  },
  {
   "cell_type": "markdown",
   "id": "4a6cf0cf",
   "metadata": {},
   "source": [
    "---\n",
    "\n",
    "## The \"*Visualize Something as Fast as Possible*\" Approach\n",
    "\n",
    "We've done some preliminary exploration to get a sense of the data we're working with.\n",
    "\n",
    "The human vision system is designed to pick out patterns, so our first step is visualize *something*. It does not have to be coherent, but we need to put something in front of our eyes to start.\n",
    "\n",
    "We also know that there is a \"time series\" element here, so let's reload the dataset while parsing columns `[0, 1]` as dates. We also built up a dictionary of `code_meanings`, so we can also assign a column named `interpretation` to include a more-human-interpretable description of what each row means."
   ]
  },
  {
   "cell_type": "code",
   "execution_count": 6,
   "id": "aae65994",
   "metadata": {},
   "outputs": [
    {
     "data": {
      "text/html": [
       "<div>\n",
       "<style scoped>\n",
       "    .dataframe tbody tr th:only-of-type {\n",
       "        vertical-align: middle;\n",
       "    }\n",
       "\n",
       "    .dataframe tbody tr th {\n",
       "        vertical-align: top;\n",
       "    }\n",
       "\n",
       "    .dataframe thead th {\n",
       "        text-align: right;\n",
       "    }\n",
       "</style>\n",
       "<table border=\"1\" class=\"dataframe\">\n",
       "  <thead>\n",
       "    <tr style=\"text-align: right;\">\n",
       "      <th></th>\n",
       "      <th>date_time</th>\n",
       "      <th>code</th>\n",
       "      <th>value</th>\n",
       "      <th>interpretation</th>\n",
       "    </tr>\n",
       "  </thead>\n",
       "  <tbody>\n",
       "    <tr>\n",
       "      <th>0</th>\n",
       "      <td>1990-09-11 18:00:00</td>\n",
       "      <td>62</td>\n",
       "      <td>62</td>\n",
       "      <td>Pre-supper blood glucose measurement</td>\n",
       "    </tr>\n",
       "    <tr>\n",
       "      <th>1</th>\n",
       "      <td>1990-09-11 18:01:00</td>\n",
       "      <td>65</td>\n",
       "      <td>0</td>\n",
       "      <td>Hypoglycemic symptoms</td>\n",
       "    </tr>\n",
       "    <tr>\n",
       "      <th>2</th>\n",
       "      <td>1990-09-11 18:09:00</td>\n",
       "      <td>33</td>\n",
       "      <td>6</td>\n",
       "      <td>Regular insulin dose</td>\n",
       "    </tr>\n",
       "    <tr>\n",
       "      <th>3</th>\n",
       "      <td>1990-09-11 22:47:00</td>\n",
       "      <td>64</td>\n",
       "      <td>257</td>\n",
       "      <td>Pre-snack blood glucose measurement</td>\n",
       "    </tr>\n",
       "    <tr>\n",
       "      <th>4</th>\n",
       "      <td>1990-09-11 22:57:00</td>\n",
       "      <td>33</td>\n",
       "      <td>3</td>\n",
       "      <td>Regular insulin dose</td>\n",
       "    </tr>\n",
       "    <tr>\n",
       "      <th>...</th>\n",
       "      <td>...</td>\n",
       "      <td>...</td>\n",
       "      <td>...</td>\n",
       "      <td>...</td>\n",
       "    </tr>\n",
       "    <tr>\n",
       "      <th>295</th>\n",
       "      <td>1990-10-10 07:28:00</td>\n",
       "      <td>67</td>\n",
       "      <td>0</td>\n",
       "      <td>More-than-usual meal ingestion</td>\n",
       "    </tr>\n",
       "    <tr>\n",
       "      <th>296</th>\n",
       "      <td>1990-10-10 11:53:00</td>\n",
       "      <td>60</td>\n",
       "      <td>112</td>\n",
       "      <td>Pre-lunch blood glucose measurement</td>\n",
       "    </tr>\n",
       "    <tr>\n",
       "      <th>297</th>\n",
       "      <td>1990-10-10 11:56:00</td>\n",
       "      <td>33</td>\n",
       "      <td>4</td>\n",
       "      <td>Regular insulin dose</td>\n",
       "    </tr>\n",
       "    <tr>\n",
       "      <th>298</th>\n",
       "      <td>1990-10-10 18:31:00</td>\n",
       "      <td>62</td>\n",
       "      <td>91</td>\n",
       "      <td>Pre-supper blood glucose measurement</td>\n",
       "    </tr>\n",
       "    <tr>\n",
       "      <th>299</th>\n",
       "      <td>1990-10-10 18:41:00</td>\n",
       "      <td>33</td>\n",
       "      <td>6</td>\n",
       "      <td>Regular insulin dose</td>\n",
       "    </tr>\n",
       "  </tbody>\n",
       "</table>\n",
       "<p>300 rows × 4 columns</p>\n",
       "</div>"
      ],
      "text/plain": [
       "              date_time  code  value                        interpretation\n",
       "0   1990-09-11 18:00:00    62     62  Pre-supper blood glucose measurement\n",
       "1   1990-09-11 18:01:00    65      0                 Hypoglycemic symptoms\n",
       "2   1990-09-11 18:09:00    33      6                  Regular insulin dose\n",
       "3   1990-09-11 22:47:00    64    257   Pre-snack blood glucose measurement\n",
       "4   1990-09-11 22:57:00    33      3                  Regular insulin dose\n",
       "..                  ...   ...    ...                                   ...\n",
       "295 1990-10-10 07:28:00    67      0        More-than-usual meal ingestion\n",
       "296 1990-10-10 11:53:00    60    112   Pre-lunch blood glucose measurement\n",
       "297 1990-10-10 11:56:00    33      4                  Regular insulin dose\n",
       "298 1990-10-10 18:31:00    62     91  Pre-supper blood glucose measurement\n",
       "299 1990-10-10 18:41:00    33      6                  Regular insulin dose\n",
       "\n",
       "[300 rows x 4 columns]"
      ]
     },
     "execution_count": 6,
     "metadata": {},
     "output_type": "execute_result"
    }
   ],
   "source": [
    "df = pd.read_csv(\n",
    "    f\"https://raw.githubusercontent.com/hayesall/diabetes-time-series/main/Diabetes-Data/data-{USER:02}\",\n",
    "    sep=\"\\t\",\n",
    "    header=None,\n",
    "    parse_dates=[[0, 1]],\n",
    "    names=[\"date\", \"time\", \"code\", \"value\"],\n",
    ")\n",
    "\n",
    "df[\"interpretation\"] = [code_meanings[i] for i in df.code]\n",
    "\n",
    "df"
   ]
  },
  {
   "cell_type": "markdown",
   "id": "2b808c73",
   "metadata": {},
   "source": [
    "It's now easier to see that we have a `date_time` column, a column of continuous `value`, and an `interpretation` for what each of those values represents.\n",
    "\n",
    "A sensible place to start might be the timeline. We can plot `date_time` on an x-axis against something on the y-axis.\n",
    "\n",
    "> 🤔 What should we put on the y-axis?\n",
    "\n",
    "How about the `value`? It probably will not have any meaningful interpretation: after all, some values are in units of \"Regular insulin doses\" while other values are recorded in terms of \"Post-supper blood glucose measurement.\"\n",
    "\n",
    "Nonetheless, it gives us something to work with:"
   ]
  },
  {
   "cell_type": "code",
   "execution_count": 7,
   "id": "9848bd3c",
   "metadata": {},
   "outputs": [
    {
     "data": {
      "text/plain": [
       "<AxesSubplot:xlabel='date_time', ylabel='value'>"
      ]
     },
     "execution_count": 7,
     "metadata": {},
     "output_type": "execute_result"
    },
    {
     "data": {
      "image/png": "[encoded data removed]",
      "text/plain": [
       "<Figure size 640x480 with 1 Axes>"
      ]
     },
     "metadata": {},
     "output_type": "display_data"
    }
   ],
   "source": [
    "sns.scatterplot(data=df, x=df.date_time, y=df.value)"
   ]
  },
  {
   "cell_type": "markdown",
   "id": "3b1a03ee",
   "metadata": {},
   "source": [
    "That's kind of neat. But we can do better.\n",
    "\n",
    "Each of the points represents the value of a variable at a recorded time. Let's emphasize this using color: we can assign a color based on the type of measurement in the `interpretation` column.\n",
    "\n",
    "While we're at it, let's make the dates and legend a little easier to read:"
   ]
  },
  {
   "cell_type": "code",
   "execution_count": 8,
   "id": "59b91984",
   "metadata": {},
   "outputs": [
    {
     "data": {
      "text/plain": [
       "<matplotlib.legend.Legend at 0x7fad30e5cb10>"
      ]
     },
     "execution_count": 8,
     "metadata": {},
     "output_type": "execute_result"
    },
    {
     "data": {
      "image/png": "[encoded data removed]",
      "text/plain": [
       "<Figure size 640x480 with 1 Axes>"
      ]
     },
     "metadata": {},
     "output_type": "display_data"
    }
   ],
   "source": [
    "ax = sns.scatterplot(data=df, x=df.date_time, y=df.value, hue=df.interpretation)\n",
    "ax.xaxis.set_major_formatter(mdates.ConciseDateFormatter(ax.xaxis.get_major_locator()))\n",
    "ax.legend(bbox_to_anchor=(1.05, 1), loc='upper left', borderaxespad=0)"
   ]
  },
  {
   "cell_type": "markdown",
   "id": "8fa23360",
   "metadata": {},
   "source": [
    "Instead of trying to look at the mess that likely appears above, let's focus on places in time where the user reports experiencing hypoglycemia symptoms (where `code == 65`).\n",
    "\n",
    "<div class=\"alert alert-block alert-warning\">\n",
    "<b>Warning:</b> It is possible that NO hypoglycemia cases were reported for a user, in which case the rest of this notebook will not make sense.\n",
    "\n",
    "You can start down an alternate path by scrolling back up and trying a different user.\n",
    "</div>"
   ]
  },
  {
   "cell_type": "code",
   "execution_count": 9,
   "id": "1ca1fa4a",
   "metadata": {},
   "outputs": [
    {
     "data": {
      "text/html": [
       "<div>\n",
       "<style scoped>\n",
       "    .dataframe tbody tr th:only-of-type {\n",
       "        vertical-align: middle;\n",
       "    }\n",
       "\n",
       "    .dataframe tbody tr th {\n",
       "        vertical-align: top;\n",
       "    }\n",
       "\n",
       "    .dataframe thead th {\n",
       "        text-align: right;\n",
       "    }\n",
       "</style>\n",
       "<table border=\"1\" class=\"dataframe\">\n",
       "  <thead>\n",
       "    <tr style=\"text-align: right;\">\n",
       "      <th></th>\n",
       "      <th>date_time</th>\n",
       "      <th>code</th>\n",
       "      <th>value</th>\n",
       "      <th>interpretation</th>\n",
       "    </tr>\n",
       "  </thead>\n",
       "  <tbody>\n",
       "    <tr>\n",
       "      <th>1</th>\n",
       "      <td>1990-09-11 18:01:00</td>\n",
       "      <td>65</td>\n",
       "      <td>0</td>\n",
       "      <td>Hypoglycemic symptoms</td>\n",
       "    </tr>\n",
       "    <tr>\n",
       "      <th>60</th>\n",
       "      <td>1990-09-17 12:15:00</td>\n",
       "      <td>65</td>\n",
       "      <td>0</td>\n",
       "      <td>Hypoglycemic symptoms</td>\n",
       "    </tr>\n",
       "    <tr>\n",
       "      <th>66</th>\n",
       "      <td>1990-09-18 15:44:00</td>\n",
       "      <td>65</td>\n",
       "      <td>0</td>\n",
       "      <td>Hypoglycemic symptoms</td>\n",
       "    </tr>\n",
       "    <tr>\n",
       "      <th>68</th>\n",
       "      <td>1990-09-18 17:48:00</td>\n",
       "      <td>65</td>\n",
       "      <td>0</td>\n",
       "      <td>Hypoglycemic symptoms</td>\n",
       "    </tr>\n",
       "    <tr>\n",
       "      <th>77</th>\n",
       "      <td>1990-09-19 11:53:00</td>\n",
       "      <td>65</td>\n",
       "      <td>0</td>\n",
       "      <td>Hypoglycemic symptoms</td>\n",
       "    </tr>\n",
       "    <tr>\n",
       "      <th>80</th>\n",
       "      <td>1990-09-19 18:28:00</td>\n",
       "      <td>65</td>\n",
       "      <td>0</td>\n",
       "      <td>Hypoglycemic symptoms</td>\n",
       "    </tr>\n",
       "    <tr>\n",
       "      <th>89</th>\n",
       "      <td>1990-09-20 11:52:00</td>\n",
       "      <td>65</td>\n",
       "      <td>0</td>\n",
       "      <td>Hypoglycemic symptoms</td>\n",
       "    </tr>\n",
       "    <tr>\n",
       "      <th>119</th>\n",
       "      <td>1990-09-23 07:22:00</td>\n",
       "      <td>65</td>\n",
       "      <td>0</td>\n",
       "      <td>Hypoglycemic symptoms</td>\n",
       "    </tr>\n",
       "    <tr>\n",
       "      <th>131</th>\n",
       "      <td>1990-09-24 05:01:00</td>\n",
       "      <td>65</td>\n",
       "      <td>0</td>\n",
       "      <td>Hypoglycemic symptoms</td>\n",
       "    </tr>\n",
       "    <tr>\n",
       "      <th>153</th>\n",
       "      <td>1990-09-26 18:17:00</td>\n",
       "      <td>65</td>\n",
       "      <td>0</td>\n",
       "      <td>Hypoglycemic symptoms</td>\n",
       "    </tr>\n",
       "    <tr>\n",
       "      <th>164</th>\n",
       "      <td>1990-09-27 22:16:00</td>\n",
       "      <td>65</td>\n",
       "      <td>0</td>\n",
       "      <td>Hypoglycemic symptoms</td>\n",
       "    </tr>\n",
       "    <tr>\n",
       "      <th>193</th>\n",
       "      <td>1990-09-30 12:13:00</td>\n",
       "      <td>65</td>\n",
       "      <td>0</td>\n",
       "      <td>Hypoglycemic symptoms</td>\n",
       "    </tr>\n",
       "    <tr>\n",
       "      <th>206</th>\n",
       "      <td>1990-10-01 11:54:00</td>\n",
       "      <td>65</td>\n",
       "      <td>0</td>\n",
       "      <td>Hypoglycemic symptoms</td>\n",
       "    </tr>\n",
       "    <tr>\n",
       "      <th>209</th>\n",
       "      <td>1990-10-01 18:03:00</td>\n",
       "      <td>65</td>\n",
       "      <td>0</td>\n",
       "      <td>Hypoglycemic symptoms</td>\n",
       "    </tr>\n",
       "    <tr>\n",
       "      <th>220</th>\n",
       "      <td>1990-10-02 18:15:00</td>\n",
       "      <td>65</td>\n",
       "      <td>0</td>\n",
       "      <td>Hypoglycemic symptoms</td>\n",
       "    </tr>\n",
       "    <tr>\n",
       "      <th>225</th>\n",
       "      <td>1990-10-03 07:19:00</td>\n",
       "      <td>65</td>\n",
       "      <td>0</td>\n",
       "      <td>Hypoglycemic symptoms</td>\n",
       "    </tr>\n",
       "    <tr>\n",
       "      <th>228</th>\n",
       "      <td>1990-10-03 11:58:00</td>\n",
       "      <td>65</td>\n",
       "      <td>0</td>\n",
       "      <td>Hypoglycemic symptoms</td>\n",
       "    </tr>\n",
       "    <tr>\n",
       "      <th>231</th>\n",
       "      <td>1990-10-03 17:16:00</td>\n",
       "      <td>65</td>\n",
       "      <td>0</td>\n",
       "      <td>Hypoglycemic symptoms</td>\n",
       "    </tr>\n",
       "    <tr>\n",
       "      <th>244</th>\n",
       "      <td>1990-10-04 17:53:00</td>\n",
       "      <td>65</td>\n",
       "      <td>0</td>\n",
       "      <td>Hypoglycemic symptoms</td>\n",
       "    </tr>\n",
       "    <tr>\n",
       "      <th>271</th>\n",
       "      <td>1990-10-07 13:06:00</td>\n",
       "      <td>65</td>\n",
       "      <td>0</td>\n",
       "      <td>Hypoglycemic symptoms</td>\n",
       "    </tr>\n",
       "    <tr>\n",
       "      <th>281</th>\n",
       "      <td>1990-10-08 18:25:00</td>\n",
       "      <td>65</td>\n",
       "      <td>0</td>\n",
       "      <td>Hypoglycemic symptoms</td>\n",
       "    </tr>\n",
       "  </tbody>\n",
       "</table>\n",
       "</div>"
      ],
      "text/plain": [
       "              date_time  code  value         interpretation\n",
       "1   1990-09-11 18:01:00    65      0  Hypoglycemic symptoms\n",
       "60  1990-09-17 12:15:00    65      0  Hypoglycemic symptoms\n",
       "66  1990-09-18 15:44:00    65      0  Hypoglycemic symptoms\n",
       "68  1990-09-18 17:48:00    65      0  Hypoglycemic symptoms\n",
       "77  1990-09-19 11:53:00    65      0  Hypoglycemic symptoms\n",
       "80  1990-09-19 18:28:00    65      0  Hypoglycemic symptoms\n",
       "89  1990-09-20 11:52:00    65      0  Hypoglycemic symptoms\n",
       "119 1990-09-23 07:22:00    65      0  Hypoglycemic symptoms\n",
       "131 1990-09-24 05:01:00    65      0  Hypoglycemic symptoms\n",
       "153 1990-09-26 18:17:00    65      0  Hypoglycemic symptoms\n",
       "164 1990-09-27 22:16:00    65      0  Hypoglycemic symptoms\n",
       "193 1990-09-30 12:13:00    65      0  Hypoglycemic symptoms\n",
       "206 1990-10-01 11:54:00    65      0  Hypoglycemic symptoms\n",
       "209 1990-10-01 18:03:00    65      0  Hypoglycemic symptoms\n",
       "220 1990-10-02 18:15:00    65      0  Hypoglycemic symptoms\n",
       "225 1990-10-03 07:19:00    65      0  Hypoglycemic symptoms\n",
       "228 1990-10-03 11:58:00    65      0  Hypoglycemic symptoms\n",
       "231 1990-10-03 17:16:00    65      0  Hypoglycemic symptoms\n",
       "244 1990-10-04 17:53:00    65      0  Hypoglycemic symptoms\n",
       "271 1990-10-07 13:06:00    65      0  Hypoglycemic symptoms\n",
       "281 1990-10-08 18:25:00    65      0  Hypoglycemic symptoms"
      ]
     },
     "execution_count": 9,
     "metadata": {},
     "output_type": "execute_result"
    }
   ],
   "source": [
    "df[df.code == 65]"
   ]
  },
  {
   "cell_type": "markdown",
   "id": "54a44a52",
   "metadata": {},
   "source": [
    "Let's focus in on the last entry.\n",
    "\n",
    "Maybe the ten entries prior to hypoglycemic symptoms will help us understand this."
   ]
  },
  {
   "cell_type": "code",
   "execution_count": 10,
   "id": "4c043648",
   "metadata": {},
   "outputs": [
    {
     "data": {
      "text/html": [
       "<div>\n",
       "<style scoped>\n",
       "    .dataframe tbody tr th:only-of-type {\n",
       "        vertical-align: middle;\n",
       "    }\n",
       "\n",
       "    .dataframe tbody tr th {\n",
       "        vertical-align: top;\n",
       "    }\n",
       "\n",
       "    .dataframe thead th {\n",
       "        text-align: right;\n",
       "    }\n",
       "</style>\n",
       "<table border=\"1\" class=\"dataframe\">\n",
       "  <thead>\n",
       "    <tr style=\"text-align: right;\">\n",
       "      <th></th>\n",
       "      <th>date_time</th>\n",
       "      <th>code</th>\n",
       "      <th>value</th>\n",
       "      <th>interpretation</th>\n",
       "    </tr>\n",
       "  </thead>\n",
       "  <tbody>\n",
       "    <tr>\n",
       "      <th>271</th>\n",
       "      <td>1990-10-07 13:06:00</td>\n",
       "      <td>65</td>\n",
       "      <td>0</td>\n",
       "      <td>Hypoglycemic symptoms</td>\n",
       "    </tr>\n",
       "    <tr>\n",
       "      <th>272</th>\n",
       "      <td>1990-10-07 13:07:00</td>\n",
       "      <td>33</td>\n",
       "      <td>4</td>\n",
       "      <td>Regular insulin dose</td>\n",
       "    </tr>\n",
       "    <tr>\n",
       "      <th>273</th>\n",
       "      <td>1990-10-07 18:36:00</td>\n",
       "      <td>62</td>\n",
       "      <td>178</td>\n",
       "      <td>Pre-supper blood glucose measurement</td>\n",
       "    </tr>\n",
       "    <tr>\n",
       "      <th>274</th>\n",
       "      <td>1990-10-07 18:38:00</td>\n",
       "      <td>33</td>\n",
       "      <td>8</td>\n",
       "      <td>Regular insulin dose</td>\n",
       "    </tr>\n",
       "    <tr>\n",
       "      <th>275</th>\n",
       "      <td>1990-10-07 22:42:00</td>\n",
       "      <td>64</td>\n",
       "      <td>188</td>\n",
       "      <td>Pre-snack blood glucose measurement</td>\n",
       "    </tr>\n",
       "    <tr>\n",
       "      <th>276</th>\n",
       "      <td>1990-10-08 07:13:00</td>\n",
       "      <td>58</td>\n",
       "      <td>149</td>\n",
       "      <td>Pre-breakfast blood glucose measurement</td>\n",
       "    </tr>\n",
       "    <tr>\n",
       "      <th>277</th>\n",
       "      <td>1990-10-08 07:16:00</td>\n",
       "      <td>33</td>\n",
       "      <td>6</td>\n",
       "      <td>Regular insulin dose</td>\n",
       "    </tr>\n",
       "    <tr>\n",
       "      <th>278</th>\n",
       "      <td>1990-10-08 12:08:00</td>\n",
       "      <td>60</td>\n",
       "      <td>107</td>\n",
       "      <td>Pre-lunch blood glucose measurement</td>\n",
       "    </tr>\n",
       "    <tr>\n",
       "      <th>279</th>\n",
       "      <td>1990-10-08 12:15:00</td>\n",
       "      <td>33</td>\n",
       "      <td>4</td>\n",
       "      <td>Regular insulin dose</td>\n",
       "    </tr>\n",
       "    <tr>\n",
       "      <th>280</th>\n",
       "      <td>1990-10-08 18:23:00</td>\n",
       "      <td>62</td>\n",
       "      <td>56</td>\n",
       "      <td>Pre-supper blood glucose measurement</td>\n",
       "    </tr>\n",
       "    <tr>\n",
       "      <th>281</th>\n",
       "      <td>1990-10-08 18:25:00</td>\n",
       "      <td>65</td>\n",
       "      <td>0</td>\n",
       "      <td>Hypoglycemic symptoms</td>\n",
       "    </tr>\n",
       "  </tbody>\n",
       "</table>\n",
       "</div>"
      ],
      "text/plain": [
       "              date_time  code  value                           interpretation\n",
       "271 1990-10-07 13:06:00    65      0                    Hypoglycemic symptoms\n",
       "272 1990-10-07 13:07:00    33      4                     Regular insulin dose\n",
       "273 1990-10-07 18:36:00    62    178     Pre-supper blood glucose measurement\n",
       "274 1990-10-07 18:38:00    33      8                     Regular insulin dose\n",
       "275 1990-10-07 22:42:00    64    188      Pre-snack blood glucose measurement\n",
       "276 1990-10-08 07:13:00    58    149  Pre-breakfast blood glucose measurement\n",
       "277 1990-10-08 07:16:00    33      6                     Regular insulin dose\n",
       "278 1990-10-08 12:08:00    60    107      Pre-lunch blood glucose measurement\n",
       "279 1990-10-08 12:15:00    33      4                     Regular insulin dose\n",
       "280 1990-10-08 18:23:00    62     56     Pre-supper blood glucose measurement\n",
       "281 1990-10-08 18:25:00    65      0                    Hypoglycemic symptoms"
      ]
     },
     "execution_count": 10,
     "metadata": {},
     "output_type": "execute_result"
    }
   ],
   "source": [
    "lh = df[df.code == 65].index[-1]\n",
    "last = df.iloc[lh-10:lh+1].copy()\n",
    "\n",
    "last"
   ]
  },
  {
   "cell_type": "markdown",
   "id": "4f17c3de",
   "metadata": {},
   "source": [
    "And a visualization just of this portion:"
   ]
  },
  {
   "cell_type": "code",
   "execution_count": 11,
   "id": "39651975",
   "metadata": {},
   "outputs": [
    {
     "data": {
      "text/plain": [
       "<matplotlib.legend.Legend at 0x7fad2f603c10>"
      ]
     },
     "execution_count": 11,
     "metadata": {},
     "output_type": "execute_result"
    },
    {
     "data": {
      "image/png": "[encoded data removed]",
      "text/plain": [
       "<Figure size 640x480 with 1 Axes>"
      ]
     },
     "metadata": {},
     "output_type": "display_data"
    }
   ],
   "source": [
    "ax = sns.scatterplot(data=last, x=last.date_time, y=last.value, hue=last.interpretation)\n",
    "ax.xaxis.set_major_formatter(mdates.ConciseDateFormatter(ax.xaxis.get_major_locator()))\n",
    "ax.legend(bbox_to_anchor=(1.05, 1), loc='upper left', borderaxespad=0)"
   ]
  },
  {
   "cell_type": "markdown",
   "id": "fc06cc8b",
   "metadata": {},
   "source": [
    "---\n",
    "\n",
    "## Preliminary Modeling\n",
    "\n",
    "We now have a sense of what our data looks like, how to visualize parts of it, and a question is forming in our head. Users can log their insulin doses, meal ingestion times, exercise windows, and when they experienced negative symptoms. Can we detect when hypoglycemia symptoms are about to occur?\n",
    "\n",
    "Now comes the first key task in a modeling workflow: come up with *a* model.\n",
    "\n",
    "It's like a rough draft&mdash;and many of our first drafts are bad.\n",
    "\n",
    "Perhaps there is something informative about *which* events are logged?"
   ]
  },
  {
   "cell_type": "code",
   "execution_count": 12,
   "id": "bcced2ca",
   "metadata": {
    "scrolled": false
   },
   "outputs": [
    {
     "data": {
      "text/html": [
       "<div>\n",
       "<style scoped>\n",
       "    .dataframe tbody tr th:only-of-type {\n",
       "        vertical-align: middle;\n",
       "    }\n",
       "\n",
       "    .dataframe tbody tr th {\n",
       "        vertical-align: top;\n",
       "    }\n",
       "\n",
       "    .dataframe thead th {\n",
       "        text-align: right;\n",
       "    }\n",
       "</style>\n",
       "<table border=\"1\" class=\"dataframe\">\n",
       "  <thead>\n",
       "    <tr style=\"text-align: right;\">\n",
       "      <th></th>\n",
       "      <th>date_time</th>\n",
       "      <th>code</th>\n",
       "      <th>value</th>\n",
       "      <th>interpretation</th>\n",
       "    </tr>\n",
       "  </thead>\n",
       "  <tbody>\n",
       "    <tr>\n",
       "      <th>1</th>\n",
       "      <td>1990-09-11 18:01:00</td>\n",
       "      <td>65</td>\n",
       "      <td>0</td>\n",
       "      <td>Hypoglycemic symptoms</td>\n",
       "    </tr>\n",
       "    <tr>\n",
       "      <th>60</th>\n",
       "      <td>1990-09-17 12:15:00</td>\n",
       "      <td>65</td>\n",
       "      <td>0</td>\n",
       "      <td>Hypoglycemic symptoms</td>\n",
       "    </tr>\n",
       "    <tr>\n",
       "      <th>66</th>\n",
       "      <td>1990-09-18 15:44:00</td>\n",
       "      <td>65</td>\n",
       "      <td>0</td>\n",
       "      <td>Hypoglycemic symptoms</td>\n",
       "    </tr>\n",
       "    <tr>\n",
       "      <th>68</th>\n",
       "      <td>1990-09-18 17:48:00</td>\n",
       "      <td>65</td>\n",
       "      <td>0</td>\n",
       "      <td>Hypoglycemic symptoms</td>\n",
       "    </tr>\n",
       "    <tr>\n",
       "      <th>77</th>\n",
       "      <td>1990-09-19 11:53:00</td>\n",
       "      <td>65</td>\n",
       "      <td>0</td>\n",
       "      <td>Hypoglycemic symptoms</td>\n",
       "    </tr>\n",
       "    <tr>\n",
       "      <th>80</th>\n",
       "      <td>1990-09-19 18:28:00</td>\n",
       "      <td>65</td>\n",
       "      <td>0</td>\n",
       "      <td>Hypoglycemic symptoms</td>\n",
       "    </tr>\n",
       "    <tr>\n",
       "      <th>89</th>\n",
       "      <td>1990-09-20 11:52:00</td>\n",
       "      <td>65</td>\n",
       "      <td>0</td>\n",
       "      <td>Hypoglycemic symptoms</td>\n",
       "    </tr>\n",
       "    <tr>\n",
       "      <th>119</th>\n",
       "      <td>1990-09-23 07:22:00</td>\n",
       "      <td>65</td>\n",
       "      <td>0</td>\n",
       "      <td>Hypoglycemic symptoms</td>\n",
       "    </tr>\n",
       "    <tr>\n",
       "      <th>131</th>\n",
       "      <td>1990-09-24 05:01:00</td>\n",
       "      <td>65</td>\n",
       "      <td>0</td>\n",
       "      <td>Hypoglycemic symptoms</td>\n",
       "    </tr>\n",
       "    <tr>\n",
       "      <th>153</th>\n",
       "      <td>1990-09-26 18:17:00</td>\n",
       "      <td>65</td>\n",
       "      <td>0</td>\n",
       "      <td>Hypoglycemic symptoms</td>\n",
       "    </tr>\n",
       "    <tr>\n",
       "      <th>164</th>\n",
       "      <td>1990-09-27 22:16:00</td>\n",
       "      <td>65</td>\n",
       "      <td>0</td>\n",
       "      <td>Hypoglycemic symptoms</td>\n",
       "    </tr>\n",
       "    <tr>\n",
       "      <th>193</th>\n",
       "      <td>1990-09-30 12:13:00</td>\n",
       "      <td>65</td>\n",
       "      <td>0</td>\n",
       "      <td>Hypoglycemic symptoms</td>\n",
       "    </tr>\n",
       "    <tr>\n",
       "      <th>206</th>\n",
       "      <td>1990-10-01 11:54:00</td>\n",
       "      <td>65</td>\n",
       "      <td>0</td>\n",
       "      <td>Hypoglycemic symptoms</td>\n",
       "    </tr>\n",
       "    <tr>\n",
       "      <th>209</th>\n",
       "      <td>1990-10-01 18:03:00</td>\n",
       "      <td>65</td>\n",
       "      <td>0</td>\n",
       "      <td>Hypoglycemic symptoms</td>\n",
       "    </tr>\n",
       "    <tr>\n",
       "      <th>220</th>\n",
       "      <td>1990-10-02 18:15:00</td>\n",
       "      <td>65</td>\n",
       "      <td>0</td>\n",
       "      <td>Hypoglycemic symptoms</td>\n",
       "    </tr>\n",
       "    <tr>\n",
       "      <th>225</th>\n",
       "      <td>1990-10-03 07:19:00</td>\n",
       "      <td>65</td>\n",
       "      <td>0</td>\n",
       "      <td>Hypoglycemic symptoms</td>\n",
       "    </tr>\n",
       "    <tr>\n",
       "      <th>228</th>\n",
       "      <td>1990-10-03 11:58:00</td>\n",
       "      <td>65</td>\n",
       "      <td>0</td>\n",
       "      <td>Hypoglycemic symptoms</td>\n",
       "    </tr>\n",
       "    <tr>\n",
       "      <th>231</th>\n",
       "      <td>1990-10-03 17:16:00</td>\n",
       "      <td>65</td>\n",
       "      <td>0</td>\n",
       "      <td>Hypoglycemic symptoms</td>\n",
       "    </tr>\n",
       "    <tr>\n",
       "      <th>244</th>\n",
       "      <td>1990-10-04 17:53:00</td>\n",
       "      <td>65</td>\n",
       "      <td>0</td>\n",
       "      <td>Hypoglycemic symptoms</td>\n",
       "    </tr>\n",
       "    <tr>\n",
       "      <th>271</th>\n",
       "      <td>1990-10-07 13:06:00</td>\n",
       "      <td>65</td>\n",
       "      <td>0</td>\n",
       "      <td>Hypoglycemic symptoms</td>\n",
       "    </tr>\n",
       "    <tr>\n",
       "      <th>281</th>\n",
       "      <td>1990-10-08 18:25:00</td>\n",
       "      <td>65</td>\n",
       "      <td>0</td>\n",
       "      <td>Hypoglycemic symptoms</td>\n",
       "    </tr>\n",
       "  </tbody>\n",
       "</table>\n",
       "</div>"
      ],
      "text/plain": [
       "              date_time  code  value         interpretation\n",
       "1   1990-09-11 18:01:00    65      0  Hypoglycemic symptoms\n",
       "60  1990-09-17 12:15:00    65      0  Hypoglycemic symptoms\n",
       "66  1990-09-18 15:44:00    65      0  Hypoglycemic symptoms\n",
       "68  1990-09-18 17:48:00    65      0  Hypoglycemic symptoms\n",
       "77  1990-09-19 11:53:00    65      0  Hypoglycemic symptoms\n",
       "80  1990-09-19 18:28:00    65      0  Hypoglycemic symptoms\n",
       "89  1990-09-20 11:52:00    65      0  Hypoglycemic symptoms\n",
       "119 1990-09-23 07:22:00    65      0  Hypoglycemic symptoms\n",
       "131 1990-09-24 05:01:00    65      0  Hypoglycemic symptoms\n",
       "153 1990-09-26 18:17:00    65      0  Hypoglycemic symptoms\n",
       "164 1990-09-27 22:16:00    65      0  Hypoglycemic symptoms\n",
       "193 1990-09-30 12:13:00    65      0  Hypoglycemic symptoms\n",
       "206 1990-10-01 11:54:00    65      0  Hypoglycemic symptoms\n",
       "209 1990-10-01 18:03:00    65      0  Hypoglycemic symptoms\n",
       "220 1990-10-02 18:15:00    65      0  Hypoglycemic symptoms\n",
       "225 1990-10-03 07:19:00    65      0  Hypoglycemic symptoms\n",
       "228 1990-10-03 11:58:00    65      0  Hypoglycemic symptoms\n",
       "231 1990-10-03 17:16:00    65      0  Hypoglycemic symptoms\n",
       "244 1990-10-04 17:53:00    65      0  Hypoglycemic symptoms\n",
       "271 1990-10-07 13:06:00    65      0  Hypoglycemic symptoms\n",
       "281 1990-10-08 18:25:00    65      0  Hypoglycemic symptoms"
      ]
     },
     "execution_count": 12,
     "metadata": {},
     "output_type": "execute_result"
    }
   ],
   "source": [
    "df[df.code == 65]"
   ]
  },
  {
   "cell_type": "markdown",
   "id": "97011b04",
   "metadata": {},
   "source": [
    "We'll look at the seven events logged prior to when the hypoglycemia symptoms occurred, count which occurred and how many times, and try to use them to predict when symptoms occur.\n",
    "\n",
    "This *might* have some plausibility. A trigger for low blood sugar may involve exercise and frequency of food habits, so we might expect some cases where exercise and meals interact to result in symptoms.\n",
    "\n",
    "We will set this problem up in a few steps.\n",
    "\n",
    "1. We want to count the number of codes prior to hypoglycemia symptoms (maybe the previous 7 records)\n",
    "2. We want to keep track of *all* codes we encounter\n",
    "\n",
    "So we can iterate over the indexes where symptoms occurred and record these in a list for later."
   ]
  },
  {
   "cell_type": "code",
   "execution_count": 13,
   "id": "ab160682",
   "metadata": {
    "scrolled": true
   },
   "outputs": [],
   "source": [
    "all_found = set()\n",
    "positive_ex = []\n",
    "\n",
    "for i in df[df.code == 65].index:\n",
    "    codes = df.iloc[i-7:i].code.to_list()\n",
    "    all_found.update(set(codes))\n",
    "    positive_ex.append(Counter(codes))"
   ]
  },
  {
   "cell_type": "markdown",
   "id": "6b57aad4",
   "metadata": {},
   "source": [
    "We also need to be able to compare against cases where symptoms **did not** occur.\n",
    "\n",
    "Maybe we can sample 25 random locations (without replacement) from the user's complete data, and repeat the procedure that we used in the positive cases."
   ]
  },
  {
   "cell_type": "code",
   "execution_count": 14,
   "id": "105af163",
   "metadata": {},
   "outputs": [],
   "source": [
    "from numpy.random import default_rng\n",
    "rng = default_rng()"
   ]
  },
  {
   "cell_type": "code",
   "execution_count": 15,
   "id": "3d4cfc1d",
   "metadata": {},
   "outputs": [],
   "source": [
    "negatives = set(range(10, len(df))) - set(df[df.code == 65].index)\n",
    "negative_indexes = rng.choice(list(negatives), size=25, replace=False)\n",
    "negative_ex = []\n",
    "\n",
    "for i in negative_indexes:\n",
    "    codes = df.iloc[i-7:i].code.to_list()\n",
    "    all_found.update(set(codes))\n",
    "    negative_ex.append(Counter(codes))"
   ]
  },
  {
   "cell_type": "markdown",
   "id": "dbb7a158",
   "metadata": {},
   "source": [
    "This will give us some positive examples and 25 negative examples:"
   ]
  },
  {
   "cell_type": "code",
   "execution_count": 16,
   "id": "64042c8c",
   "metadata": {},
   "outputs": [
    {
     "data": {
      "text/plain": [
       "(21, 25)"
      ]
     },
     "execution_count": 16,
     "metadata": {},
     "output_type": "execute_result"
    }
   ],
   "source": [
    "len(positive_ex), len(negative_ex)"
   ]
  },
  {
   "cell_type": "markdown",
   "id": "fa0cf1c0",
   "metadata": {},
   "source": [
    "We've built up two lists of bag objects, and a set of all the codes recorded in each.\n",
    "\n",
    "The final is to flatten the bags into vectors. This should result in a design matrix of $N$ values $\\times~M$ features and a label vector of shape $N$."
   ]
  },
  {
   "cell_type": "code",
   "execution_count": 17,
   "id": "7722b3bb",
   "metadata": {},
   "outputs": [
    {
     "data": {
      "text/plain": [
       "((46, 12), (46,))"
      ]
     },
     "execution_count": 17,
     "metadata": {},
     "output_type": "execute_result"
    }
   ],
   "source": [
    "y = []\n",
    "X = []\n",
    "\n",
    "for cnter in positive_ex:\n",
    "    example = np.zeros(len(all_found))\n",
    "    for i, v in enumerate(all_found):\n",
    "        example[i] = cnter[v]\n",
    "    X.append(example)\n",
    "    y.append(1)\n",
    "\n",
    "for cnter in negative_ex:\n",
    "    example = np.zeros(len(all_found))\n",
    "    for i, v in enumerate(all_found):\n",
    "        example[i] = cnter[v]\n",
    "    X.append(example)\n",
    "    y.append(0)\n",
    "\n",
    "X = np.asarray(X)\n",
    "y = np.asarray(y)\n",
    "\n",
    "(X.shape, y.shape)"
   ]
  },
  {
   "cell_type": "markdown",
   "id": "c7ed4beb",
   "metadata": {},
   "source": [
    "One more complication: we'll likely want to inspect the model we come up with. So let's fit a `DecisionTreeClassifier`."
   ]
  },
  {
   "cell_type": "code",
   "execution_count": 18,
   "id": "d3ce1e2d",
   "metadata": {},
   "outputs": [
    {
     "data": {
      "text/plain": [
       "DecisionTreeClassifier(max_depth=2)"
      ]
     },
     "execution_count": 18,
     "metadata": {},
     "output_type": "execute_result"
    }
   ],
   "source": [
    "from sklearn.tree import DecisionTreeClassifier\n",
    "from sklearn.model_selection import train_test_split\n",
    "from sklearn.metrics import classification_report\n",
    "from sklearn.tree import plot_tree\n",
    "\n",
    "X_train, X_test, y_train, y_test = train_test_split(X, y, stratify=y)\n",
    "\n",
    "clf = DecisionTreeClassifier(max_depth=2)\n",
    "clf.fit(X_train, y_train)"
   ]
  },
  {
   "cell_type": "code",
   "execution_count": 19,
   "id": "1d102280",
   "metadata": {},
   "outputs": [
    {
     "data": {
      "text/plain": [
       "[Text(0.5, 0.8333333333333334, 'Count: Regular insulin dose <= 2.5\\ngini = 0.498\\nsamples = 34\\nvalue = [18, 16]'),\n",
       " Text(0.25, 0.5, 'Count: Hypoglycemic symptoms <= 1.5\\ngini = 0.454\\nsamples = 23\\nvalue = [8, 15]'),\n",
       " Text(0.125, 0.16666666666666666, 'gini = 0.346\\nsamples = 18\\nvalue = [4, 14]'),\n",
       " Text(0.375, 0.16666666666666666, 'gini = 0.32\\nsamples = 5\\nvalue = [4, 1]'),\n",
       " Text(0.75, 0.5, 'Count: NPH insulin dose <= 0.5\\ngini = 0.165\\nsamples = 11\\nvalue = [10, 1]'),\n",
       " Text(0.625, 0.16666666666666666, 'gini = 0.32\\nsamples = 5\\nvalue = [4, 1]'),\n",
       " Text(0.875, 0.16666666666666666, 'gini = 0.0\\nsamples = 6\\nvalue = [6, 0]')]"
      ]
     },
     "execution_count": 19,
     "metadata": {},
     "output_type": "execute_result"
    },
    {
     "data": {
      "image/png": "[encoded data removed]",
      "text/plain": [
       "<Figure size 640x480 with 1 Axes>"
      ]
     },
     "metadata": {},
     "output_type": "display_data"
    }
   ],
   "source": [
    "plot_tree(clf, feature_names=[\"Count: \" + code_meanings[i] for i in all_found])"
   ]
  },
  {
   "cell_type": "markdown",
   "id": "5af378d5",
   "metadata": {},
   "source": [
    "How did we do?"
   ]
  },
  {
   "cell_type": "code",
   "execution_count": 20,
   "id": "20288b61",
   "metadata": {},
   "outputs": [
    {
     "name": "stdout",
     "output_type": "stream",
     "text": [
      "              precision    recall  f1-score   support\n",
      "\n",
      "           0       1.00      0.43      0.60         7\n",
      "           1       0.56      1.00      0.71         5\n",
      "\n",
      "    accuracy                           0.67        12\n",
      "   macro avg       0.78      0.71      0.66        12\n",
      "weighted avg       0.81      0.67      0.65        12\n",
      "\n"
     ]
    }
   ],
   "source": [
    "print(classification_report(y_test, clf.predict(X_test)))"
   ]
  }
 ],
 "metadata": {
  "kernelspec": {
   "display_name": "Python 3 (ipykernel)",
   "language": "python",
   "name": "python3"
  },
  "language_info": {
   "codemirror_mode": {
    "name": "ipython",
    "version": 3
   },
   "file_extension": ".py",
   "mimetype": "text/x-python",
   "name": "python",
   "nbconvert_exporter": "python",
   "pygments_lexer": "ipython3",
   "version": "3.7.13"
  }
 },
 "nbformat": 4,
 "nbformat_minor": 5
}
